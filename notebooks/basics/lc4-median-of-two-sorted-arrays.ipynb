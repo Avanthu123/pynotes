{
 "cells": [
  {
   "cell_type": "markdown",
   "id": "7d350f9d-63f2-4fa1-b7b1-75e01a6e4ae8",
   "metadata": {},
   "source": [
    "https://leetcode.com/problems/median-of-two-sorted-arrays/"
   ]
  },
  {
   "cell_type": "code",
   "execution_count": 2,
   "id": "491b6778-af4e-4d24-84f7-66b4cffbb97a",
   "metadata": {},
   "outputs": [],
   "source": [
    "class Solution:\n",
    "    def findMedianSortedArrays(self, nums1: list[int], nums2: list[int]) -> float:\n",
    "        arr = nums1+nums2\n",
    "        arr.sort()\n",
    "        n = len(arr)\n",
    "        if n%2 == 0:\n",
    "            median = (arr[n//2]+arr[(n//2)-1])/2\n",
    "        else:\n",
    "            median = arr[n//2]\n",
    "        return median"
   ]
  },
  {
   "cell_type": "code",
   "execution_count": 6,
   "id": "76daa905-cebd-4f60-b1fc-04274a4900b1",
   "metadata": {},
   "outputs": [
    {
     "data": {
      "text/plain": [
       "8"
      ]
     },
     "execution_count": 6,
     "metadata": {},
     "output_type": "execute_result"
    }
   ],
   "source": [
    "Solution().findMedianSortedArrays(nums1 = [1,1,2,4,6,8,9,11], nums2 = [3,4,9,13,17,19,21])"
   ]
  }
 ],
 "metadata": {
  "kernelspec": {
   "display_name": "Python 3 (ipykernel)",
   "language": "python",
   "name": "python3"
  },
  "language_info": {
   "codemirror_mode": {
    "name": "ipython",
    "version": 3
   },
   "file_extension": ".py",
   "mimetype": "text/x-python",
   "name": "python",
   "nbconvert_exporter": "python",
   "pygments_lexer": "ipython3",
   "version": "3.10.12"
  }
 },
 "nbformat": 4,
 "nbformat_minor": 5
}
