{
 "cells": [
  {
   "cell_type": "markdown",
   "id": "7d350f9d-63f2-4fa1-b7b1-75e01a6e4ae8",
   "metadata": {},
   "source": [
    "https://leetcode.com/problems/median-of-two-sorted-arrays/"
   ]
  },
  {
   "cell_type": "code",
   "execution_count": 2,
   "id": "491b6778-af4e-4d24-84f7-66b4cffbb97a",
   "metadata": {},
   "outputs": [],
   "source": [
    "class Solution:\n",
    "    def findMedianSortedArrays(self, nums1: list[int], nums2: list[int]) -> float:\n",
    "        arr = nums1+nums2\n",
    "        arr.sort()\n",
    "        n = len(arr)\n",
    "        if n%2 == 0:\n",
    "            median = (arr[n//2]+arr[(n//2)-1])/2\n",
    "        else:\n",
    "            median = arr[n//2]\n",
    "        return median"
   ]
  },
  {
   "cell_type": "code",
   "execution_count": 3,
   "id": "76daa905-cebd-4f60-b1fc-04274a4900b1",
   "metadata": {},
   "outputs": [
    {
     "data": {
      "text/plain": [
       "8"
      ]
     },
     "execution_count": 3,
     "metadata": {},
     "output_type": "execute_result"
    }
   ],
   "source": [
    "Solution().findMedianSortedArrays(nums1 = [1,1,2,4,6,8,9,11], nums2 = [3,4,9,13,17,19,21])"
   ]
  },
  {
   "cell_type": "code",
   "execution_count": 4,
   "id": "2e62db1b-d81d-4f6d-94e6-fe49a50e29d3",
   "metadata": {},
   "outputs": [
    {
     "data": {
      "text/plain": [
       "6.5"
      ]
     },
     "execution_count": 4,
     "metadata": {},
     "output_type": "execute_result"
    }
   ],
   "source": [
    "Solution().findMedianSortedArrays(nums1 = [1,9,11], nums2 = [3,4,21])"
   ]
  },
  {
   "cell_type": "code",
   "execution_count": 5,
   "id": "1cf62b83-d00d-4e72-b5da-2e72ca804dcf",
   "metadata": {},
   "outputs": [
    {
     "data": {
      "text/plain": [
       "2.0"
      ]
     },
     "execution_count": 5,
     "metadata": {},
     "output_type": "execute_result"
    }
   ],
   "source": [
    "Solution().findMedianSortedArrays(nums1 = [1], nums2 = [3])"
   ]
  },
  {
   "cell_type": "code",
   "execution_count": 6,
   "id": "8b9bc512-658d-4bb9-b04c-1d95a71ce5d3",
   "metadata": {},
   "outputs": [
    {
     "data": {
      "text/plain": [
       "1"
      ]
     },
     "execution_count": 6,
     "metadata": {},
     "output_type": "execute_result"
    }
   ],
   "source": [
    "Solution().findMedianSortedArrays(nums1 = [1], nums2 = [])"
   ]
  }
 ],
 "metadata": {
  "kernelspec": {
   "display_name": "Python 3 (ipykernel)",
   "language": "python",
   "name": "python3"
  },
  "language_info": {
   "codemirror_mode": {
    "name": "ipython",
    "version": 3
   },
   "file_extension": ".py",
   "mimetype": "text/x-python",
   "name": "python",
   "nbconvert_exporter": "python",
   "pygments_lexer": "ipython3",
   "version": "3.10.12"
  }
 },
 "nbformat": 4,
 "nbformat_minor": 5
}
