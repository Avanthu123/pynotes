{
 "cells": [
  {
   "cell_type": "code",
   "execution_count": 1,
   "id": "5da81d46-8c62-473e-9fc6-ba7d9b163c80",
   "metadata": {},
   "outputs": [],
   "source": [
    "from bs4 import BeautifulSoup\n",
    "import requests"
   ]
  },
  {
   "cell_type": "code",
   "execution_count": 2,
   "id": "a852f6f5-4059-454b-a54f-a578786addb0",
   "metadata": {},
   "outputs": [],
   "source": [
    "r = requests.get('https://en.wikipedia.org/wiki/2024_Indian_Premier_League')"
   ]
  },
  {
   "cell_type": "code",
   "execution_count": 3,
   "id": "792e03aa-8991-47a2-ab27-8bc9c2a3c7db",
   "metadata": {},
   "outputs": [],
   "source": [
    "soup = BeautifulSoup(r.content, 'html.parser')"
   ]
  },
  {
   "cell_type": "code",
   "execution_count": 4,
   "id": "ab55d07f-b082-4db4-b8d1-9ed0319a61c1",
   "metadata": {},
   "outputs": [
    {
     "name": "stdout",
     "output_type": "stream",
     "text": [
      "\n",
      "Article:  Contents\n",
      "\n",
      "Article:  Background\n",
      "\n",
      "Article:  Teams\n",
      "\n",
      "Article:  Venues\n",
      "\n",
      "Article:  Opening ceremony\n",
      "\n",
      "Article:  League stage\n",
      "\n",
      "Article:  Playoffs\n",
      "\n",
      "Article:  Statistics and awards\n",
      "\n",
      "Article:  References\n",
      "\n",
      "Article:  External links\n"
     ]
    }
   ],
   "source": [
    "tags = soup.find_all('h2')\n",
    "for i in tags:\n",
    "    print(\"\\nArticle: \", i.text)"
   ]
  },
  {
   "cell_type": "code",
   "execution_count": 5,
   "id": "a8549f60-5775-4932-a5b2-245fda42689f",
   "metadata": {},
   "outputs": [
    {
     "name": "stdout",
     "output_type": "stream",
     "text": [
      "\n",
      "Article:  Format\n",
      "\n",
      "Article:  Schedule\n",
      "\n",
      "Article:  Marketing\n",
      "\n",
      "Article:  Broadcasting\n",
      "\n",
      "Article:  Personnel changes\n",
      "\n",
      "Article:  Points table\n",
      "\n",
      "Article:  Match summary\n",
      "\n",
      "Article:  Fixtures\n",
      "\n",
      "Article:  Bracket\n",
      "\n",
      "Article:  Qualifier 1\n",
      "\n",
      "Article:  Eliminator\n",
      "\n",
      "Article:  Qualifier 2\n",
      "\n",
      "Article:  Final\n",
      "\n",
      "Article:  Most runs\n",
      "\n",
      "Article:  Most wickets\n",
      "\n",
      "Article:  Most Valuable Player\n",
      "\n",
      "Article:  End of season awards\n"
     ]
    }
   ],
   "source": [
    "tags = soup.find_all('h3')\n",
    "for i in tags:\n",
    "    print(\"\\nArticle: \", i.text)"
   ]
  }
 ],
 "metadata": {
  "kernelspec": {
   "display_name": "Python 3 (ipykernel)",
   "language": "python",
   "name": "python3"
  },
  "language_info": {
   "codemirror_mode": {
    "name": "ipython",
    "version": 3
   },
   "file_extension": ".py",
   "mimetype": "text/x-python",
   "name": "python",
   "nbconvert_exporter": "python",
   "pygments_lexer": "ipython3",
   "version": "3.10.12"
  }
 },
 "nbformat": 4,
 "nbformat_minor": 5
}
