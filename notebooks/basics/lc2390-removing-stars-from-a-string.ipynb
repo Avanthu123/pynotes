{
 "cells": [
  {
   "cell_type": "markdown",
   "id": "44f7da86-b428-44c1-91e4-0afdcde5fcc4",
   "metadata": {},
   "source": [
    "https://leetcode.com/problems/removing-stars-from-a-string/"
   ]
  },
  {
   "cell_type": "code",
   "execution_count": 1,
   "id": "b4589e3f-03d9-43e0-9db5-a8ae573ab260",
   "metadata": {},
   "outputs": [],
   "source": [
    "class Solution:\n",
    "    def removeStars(self, s: str) -> str:\n",
    "        nstar = []\n",
    "        for i in s:\n",
    "            if i == '*':\n",
    "                nstar.pop()\n",
    "            else:\n",
    "                nstar.append(i)\n",
    "        return ''.join(nstar)"
   ]
  },
  {
   "cell_type": "code",
   "execution_count": 2,
   "id": "da8062b1-d532-4fe6-bb0b-37f87785365d",
   "metadata": {},
   "outputs": [
    {
     "data": {
      "text/plain": [
       "'lecoe'"
      ]
     },
     "execution_count": 2,
     "metadata": {},
     "output_type": "execute_result"
    }
   ],
   "source": [
    "Solution().removeStars(\"leet**cod*e\")"
   ]
  },
  {
   "cell_type": "code",
   "execution_count": 3,
   "id": "e94fbbf0-f29e-4b3c-98d1-3b1813b8c521",
   "metadata": {},
   "outputs": [
    {
     "data": {
      "text/plain": [
       "''"
      ]
     },
     "execution_count": 3,
     "metadata": {},
     "output_type": "execute_result"
    }
   ],
   "source": [
    "Solution().removeStars(\"coding******\")"
   ]
  }
 ],
 "metadata": {
  "kernelspec": {
   "display_name": "Python 3 (ipykernel)",
   "language": "python",
   "name": "python3"
  },
  "language_info": {
   "codemirror_mode": {
    "name": "ipython",
    "version": 3
   },
   "file_extension": ".py",
   "mimetype": "text/x-python",
   "name": "python",
   "nbconvert_exporter": "python",
   "pygments_lexer": "ipython3",
   "version": "3.10.12"
  }
 },
 "nbformat": 4,
 "nbformat_minor": 5
}
