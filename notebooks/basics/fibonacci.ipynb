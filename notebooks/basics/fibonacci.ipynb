{
 "cells": [
  {
   "cell_type": "code",
   "execution_count": 1,
   "id": "3fefa2a3-4491-4796-b197-59a6175b575e",
   "metadata": {},
   "outputs": [
    {
     "name": "stdin",
     "output_type": "stream",
     "text": [
      "Enter number of terms to print in fibonacci series:  8\n"
     ]
    }
   ],
   "source": [
    "num = int(input(\"Enter number of terms to print in fibonacci series: \"))"
   ]
  },
  {
   "cell_type": "code",
   "execution_count": 2,
   "id": "7cc9e8e8-401c-49bc-932c-ea85c7ce6fa6",
   "metadata": {},
   "outputs": [
    {
     "name": "stdout",
     "output_type": "stream",
     "text": [
      "1 1 2 3 5 8 13 21 "
     ]
    }
   ],
   "source": [
    "prevnum = 1\n",
    "nextnum = 1\n",
    "i = 1\n",
    "print(prevnum, nextnum, end = ' ')\n",
    "while i <= num - 2:\n",
    "      number = prevnum+nextnum\n",
    "      print(number, end = ' ')\n",
    "      prevnum = nextnum\n",
    "      nextnum = number\n",
    "      i += 1"
   ]
  }
 ],
 "metadata": {
  "kernelspec": {
   "display_name": "Python 3 (ipykernel)",
   "language": "python",
   "name": "python3"
  },
  "language_info": {
   "codemirror_mode": {
    "name": "ipython",
    "version": 3
   },
   "file_extension": ".py",
   "mimetype": "text/x-python",
   "name": "python",
   "nbconvert_exporter": "python",
   "pygments_lexer": "ipython3",
   "version": "3.10.12"
  }
 },
 "nbformat": 4,
 "nbformat_minor": 5
}
