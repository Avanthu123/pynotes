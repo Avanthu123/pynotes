{
 "cells": [
  {
   "cell_type": "markdown",
   "id": "911563b0-a807-4694-a126-a7fdef09f16c",
   "metadata": {},
   "source": [
    "https://leetcode.com/problems/palindrome-number/"
   ]
  },
  {
   "cell_type": "code",
   "execution_count": 2,
   "id": "826a9345-a0df-4d4f-a91c-55c5b875d901",
   "metadata": {},
   "outputs": [],
   "source": [
    "class Solution:\n",
    "    def isPalindrome(self, x: int) -> bool:\n",
    "        pal, new = 0, x\n",
    "        n = len(str(x))\n",
    "        if x < 0:\n",
    "            return False\n",
    "        else:\n",
    "            while n > 0:\n",
    "                pal += (x % 10) * (10 ** (n-1))\n",
    "                n -= 1\n",
    "                x //= 10\n",
    "            if pal == new:\n",
    "                return True\n",
    "            else:\n",
    "                return False"
   ]
  },
  {
   "cell_type": "code",
   "execution_count": 3,
   "id": "fab2f34f-7f25-4548-bef7-485e391b44ec",
   "metadata": {},
   "outputs": [
    {
     "data": {
      "text/plain": [
       "True"
      ]
     },
     "execution_count": 3,
     "metadata": {},
     "output_type": "execute_result"
    }
   ],
   "source": [
    "Solution().isPalindrome(1345431)"
   ]
  },
  {
   "cell_type": "code",
   "execution_count": 4,
   "id": "86c8feb6-3c2b-4bbe-b851-3a70d952d4d0",
   "metadata": {},
   "outputs": [
    {
     "data": {
      "text/plain": [
       "False"
      ]
     },
     "execution_count": 4,
     "metadata": {},
     "output_type": "execute_result"
    }
   ],
   "source": [
    "Solution().isPalindrome(-1)"
   ]
  },
  {
   "cell_type": "code",
   "execution_count": 5,
   "id": "f3c6eb1f-9b03-46b4-a926-b5f11b311957",
   "metadata": {},
   "outputs": [
    {
     "data": {
      "text/plain": [
       "False"
      ]
     },
     "execution_count": 5,
     "metadata": {},
     "output_type": "execute_result"
    }
   ],
   "source": [
    "Solution().isPalindrome(123)"
   ]
  }
 ],
 "metadata": {
  "kernelspec": {
   "display_name": "Python 3 (ipykernel)",
   "language": "python",
   "name": "python3"
  },
  "language_info": {
   "codemirror_mode": {
    "name": "ipython",
    "version": 3
   },
   "file_extension": ".py",
   "mimetype": "text/x-python",
   "name": "python",
   "nbconvert_exporter": "python",
   "pygments_lexer": "ipython3",
   "version": "3.10.12"
  }
 },
 "nbformat": 4,
 "nbformat_minor": 5
}
