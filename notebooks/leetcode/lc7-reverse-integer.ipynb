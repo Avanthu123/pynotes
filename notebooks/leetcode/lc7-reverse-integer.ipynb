{
 "cells": [
  {
   "cell_type": "markdown",
   "id": "92aacfb4-0431-4bb9-bcf4-db94714dcc6e",
   "metadata": {},
   "source": [
    "https://leetcode.com/problems/reverse-integer/"
   ]
  },
  {
   "cell_type": "code",
   "execution_count": 1,
   "id": "aa7d2cc2-ab5a-4a74-945a-7554adb68693",
   "metadata": {},
   "outputs": [],
   "source": [
    "class Solution:\n",
    "    def reverse(self, x: int) -> int:\n",
    "        sign = -1 if x<0 else 1\n",
    "        x*= sign\n",
    "        y = 0\n",
    "        while x:\n",
    "            y = y*10+x%10\n",
    "            x = x//10\n",
    "        if sign == -1:\n",
    "            y*= sign\n",
    "        if y < -2**31 or y > 2**31 - 1:\n",
    "            return 0\n",
    "        return y"
   ]
  },
  {
   "cell_type": "code",
   "execution_count": 2,
   "id": "4fb3d007-455b-40ec-ba25-27d93194da78",
   "metadata": {},
   "outputs": [
    {
     "data": {
      "text/plain": [
       "6837281"
      ]
     },
     "execution_count": 2,
     "metadata": {},
     "output_type": "execute_result"
    }
   ],
   "source": [
    "Solution().reverse(1827386)"
   ]
  },
  {
   "cell_type": "code",
   "execution_count": 4,
   "id": "ffefaa9b-2205-4c3f-ae1b-3b166ed0f515",
   "metadata": {},
   "outputs": [
    {
     "data": {
      "text/plain": [
       "-2721"
      ]
     },
     "execution_count": 4,
     "metadata": {},
     "output_type": "execute_result"
    }
   ],
   "source": [
    "Solution().reverse(-1272)"
   ]
  },
  {
   "cell_type": "code",
   "execution_count": 5,
   "id": "a76a7f85-65e2-437b-8485-b0729c782790",
   "metadata": {},
   "outputs": [
    {
     "data": {
      "text/plain": [
       "0"
      ]
     },
     "execution_count": 5,
     "metadata": {},
     "output_type": "execute_result"
    }
   ],
   "source": [
    "Solution().reverse(2**32)"
   ]
  }
 ],
 "metadata": {
  "kernelspec": {
   "display_name": "Python 3 (ipykernel)",
   "language": "python",
   "name": "python3"
  },
  "language_info": {
   "codemirror_mode": {
    "name": "ipython",
    "version": 3
   },
   "file_extension": ".py",
   "mimetype": "text/x-python",
   "name": "python",
   "nbconvert_exporter": "python",
   "pygments_lexer": "ipython3",
   "version": "3.10.12"
  }
 },
 "nbformat": 4,
 "nbformat_minor": 5
}
